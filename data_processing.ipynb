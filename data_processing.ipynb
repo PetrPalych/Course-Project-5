{
 "cells": [
  {
   "cell_type": "markdown",
   "id": "040cda15-946c-49b6-b4f6-44cbe8ea0288",
   "metadata": {
    "tags": []
   },
   "source": [
    "### *Импорты* ###"
   ]
  },
  {
   "cell_type": "code",
   "execution_count": 1,
   "id": "192abe49-5dd1-4f01-9d14-8e9590d3214f",
   "metadata": {
    "tags": []
   },
   "outputs": [],
   "source": [
    "# import numpy as np\n",
    "# import pandas as pd"
   ]
  },
  {
   "cell_type": "markdown",
   "id": "428db216-b3d6-4ceb-8e48-174b370db07e",
   "metadata": {
    "tags": []
   },
   "source": [
    "### *Загрузка файла* ###"
   ]
  },
  {
   "cell_type": "code",
   "execution_count": 2,
   "id": "d1d6ee0c-7e48-4ad5-943d-61fc77f2f520",
   "metadata": {
    "tags": []
   },
   "outputs": [],
   "source": [
    "# data = pd.read_csv('./db/basel(1940-2023).csv')"
   ]
  },
  {
   "cell_type": "markdown",
   "id": "704c776b-9f85-40ce-9936-825d3ba57f6d",
   "metadata": {},
   "source": [
    "### *Предобработка данных* ###"
   ]
  },
  {
   "cell_type": "code",
   "execution_count": 3,
   "id": "99c342c8-32e1-4c06-b657-ad2c19a9e036",
   "metadata": {
    "tags": []
   },
   "outputs": [],
   "source": [
    "# Замена пропущенных и нечисловых значений на 0\n",
    "# data = data.replace('', 0).replace(np.nan, 0)\n",
    "\n",
    "\n",
    "\n",
    "# Замена столбца 'Timestamp' на 3 отдельных столбца (Year, Month, Day, Hour) для того,чтобы модели было проще фиксировать\n",
    "# ежегодные, ежемесячные, ежедневные и почасовые паттерны\n",
    "# data['Year'] = pd.to_datetime(data['Timestamp']).dt.year\n",
    "# data['Month'] = pd.to_datetime(data['Timestamp']).dt.month\n",
    "# data['Day'] = pd.to_datetime(data['Timestamp']).dt.day\n",
    "# data['Hour'] = pd.to_datetime(data['Timestamp']).dt.hour\n",
    "\n",
    "\n",
    "\n",
    "# Столбец 'Timestamp' убирается за ненадобностью\n",
    "# data = data.drop(['Timestamp'], axis=1)\n",
    "\n",
    "\n",
    "\n",
    "# Сохранение файла в CSV формат\n",
    "# data.to_csv('basel(1940-2023).csv', index=False)"
   ]
  },
  {
   "cell_type": "code",
   "execution_count": null,
   "id": "e307ddca-9efd-4c28-8cc7-a0a4cb5ec45b",
   "metadata": {},
   "outputs": [],
   "source": []
  }
 ],
 "metadata": {
  "kernelspec": {
   "display_name": "Python 3 (ipykernel)",
   "language": "python",
   "name": "python3"
  },
  "language_info": {
   "codemirror_mode": {
    "name": "ipython",
    "version": 3
   },
   "file_extension": ".py",
   "mimetype": "text/x-python",
   "name": "python",
   "nbconvert_exporter": "python",
   "pygments_lexer": "ipython3",
   "version": "3.11.4"
  }
 },
 "nbformat": 4,
 "nbformat_minor": 5
}
