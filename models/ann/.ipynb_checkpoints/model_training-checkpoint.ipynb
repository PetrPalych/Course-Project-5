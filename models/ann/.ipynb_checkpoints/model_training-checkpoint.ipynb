{
 "cells": [
  {
   "cell_type": "markdown",
   "id": "ccc99565-0a57-462f-aba5-d0de39d0e049",
   "metadata": {
    "tags": []
   },
   "source": [
    "### *Импорты* ###"
   ]
  },
  {
   "cell_type": "code",
   "execution_count": 1,
   "id": "f795e5f0-0344-4931-a112-68aafdffa6ad",
   "metadata": {
    "tags": []
   },
   "outputs": [],
   "source": [
    "import numpy as np\n",
    "import pandas as pd\n",
    "\n",
    "from sklearn.model_selection import train_test_split\n",
    "from sklearn.preprocessing import StandardScaler\n",
    "from sklearn.metrics import mean_squared_error, mean_absolute_error, r2_score\n",
    "\n",
    "import tensorflow as tf\n",
    "\n",
    "from tensorflow import keras\n",
    "from tensorflow.keras import layers, regularizers\n",
    "from tensorflow.keras.optimizers import SGD, RMSprop\n",
    "from tensorflow.keras.callbacks import EarlyStopping, LearningRateScheduler, ReduceLROnPlateau\n",
    "from tensorflow.keras.layers import Dropout\n",
    "from tensorflow.keras.models import Sequential, load_model"
   ]
  },
  {
   "cell_type": "markdown",
   "id": "e527ca29-a24b-4b16-a139-5c4669ce56e9",
   "metadata": {},
   "source": [
    "### *Загрузка данных* ###"
   ]
  },
  {
   "cell_type": "code",
   "execution_count": 2,
   "id": "b68a2704-546a-4a2f-a75d-5802f98c0d37",
   "metadata": {
    "tags": []
   },
   "outputs": [],
   "source": [
    "data = pd.read_csv('../ann/../../db/basel(1940-2023).csv')"
   ]
  },
  {
   "cell_type": "markdown",
   "id": "882a1d84-a9b9-4fc1-9d10-950353860376",
   "metadata": {
    "tags": []
   },
   "source": [
    "### *Отделение признаков и таргета в отдельные датафреймы* ###"
   ]
  },
  {
   "cell_type": "code",
   "execution_count": 3,
   "id": "eaabf66f-84ae-47a4-a5c2-ce73805212b9",
   "metadata": {},
   "outputs": [],
   "source": [
    "# Необходимо удалить предсказываемые значения из датафрейма\n",
    "features = data.drop(['Temperature [2 m elevation corrected]'], axis=1)"
   ]
  },
  {
   "cell_type": "code",
   "execution_count": 4,
   "id": "74886c4f-4ef0-4339-9bcd-a96744014e90",
   "metadata": {
    "tags": []
   },
   "outputs": [],
   "source": [
    "target = data['Temperature [2 m elevation corrected]']"
   ]
  },
  {
   "cell_type": "markdown",
   "id": "75a8303b-1269-4d78-91e7-b634233d2ee2",
   "metadata": {
    "tags": []
   },
   "source": [
    "### *Разделение на обучающий и тестовый наборы* ###"
   ]
  },
  {
   "cell_type": "code",
   "execution_count": 5,
   "id": "cacd8e17-1f31-4e4d-a0b8-c72d32c90de3",
   "metadata": {
    "tags": []
   },
   "outputs": [],
   "source": [
    "# Обучающая часть\n",
    "X_train, X_test, y_train, y_test = train_test_split(features, target, test_size=0.2, shuffle=True)"
   ]
  },
  {
   "cell_type": "markdown",
   "id": "ad9a69b0-8430-46b0-804b-d91a0541b49a",
   "metadata": {},
   "source": [
    "### *Стандартизация данных* ###"
   ]
  },
  {
   "cell_type": "code",
   "execution_count": 6,
   "id": "2f01f1b6-ea0c-43af-ade0-cdca40059184",
   "metadata": {},
   "outputs": [],
   "source": [
    "scaler = StandardScaler()\n",
    "\n",
    "X_train_scaled = scaler.fit_transform(X_train)\n",
    "X_test_scaled = scaler.transform(X_test)"
   ]
  },
  {
   "cell_type": "markdown",
   "id": "e217f757-0387-4e76-8035-6054a2deb7aa",
   "metadata": {},
   "source": [
    "### *Инициализация модели* ###"
   ]
  },
  {
   "cell_type": "code",
   "execution_count": 7,
   "id": "6469fd6d-b185-4b50-907e-e996c511b149",
   "metadata": {
    "tags": []
   },
   "outputs": [],
   "source": [
    "model = Sequential([\n",
    "    layers.Dense(128, activation='tanh', input_shape=(X_train_scaled.shape[1], ), kernel_regularizer=regularizers.l2(0.01)),\n",
    "    layers.BatchNormalization(),\n",
    "    layers.Dropout(0.05),\n",
    "\n",
    "    layers.Dense(64, activation='tanh', kernel_regularizer=regularizers.l2(0.01)),\n",
    "    layers.BatchNormalization(),\n",
    "    layers.Dropout(0.05),\n",
    "\n",
    "    layers.Dense(32, activation='tanh', kernel_regularizer=regularizers.l2(0.01)),\n",
    "    layers.BatchNormalization(),\n",
    "    layers.Dropout(0.05),\n",
    "\n",
    "    layers.Dense(1, kernel_regularizer=regularizers.l2(0.01)),\n",
    "])"
   ]
  },
  {
   "cell_type": "markdown",
   "id": "59593a3c-91b5-4b95-8a7b-502d75d450f2",
   "metadata": {
    "tags": []
   },
   "source": [
    "### *Планировщик скорости обучения* ###"
   ]
  },
  {
   "cell_type": "code",
   "execution_count": 8,
   "id": "dcc67474-3a97-474a-a01c-19c382abf6e1",
   "metadata": {},
   "outputs": [],
   "source": [
    "# Слишком малое количество прогревочных эпох может привести к тому, что скорость обучения будет расти слишком быстро, \n",
    "# а слишком большое их количество может замедлить сходимость модели\n",
    "warmup_epochs = 5\n",
    "\n",
    "# Если начальная скорость обучения слишком высока, это может привести к расхождению модели, а если слишком мала - модель \n",
    "# будет сходиться очень медленно\n",
    "initial_lr = 1e-4\n",
    "\n",
    "# Шаги распада определяют, как быстро уменьшается скорость обучения\n",
    "decay_steps = 10\n",
    "\n",
    "def lr_schedule(epoch):\n",
    "    if epoch < warmup_epochs:\n",
    "        lr = (epoch + 1) / warmup_epochs * initial_lr\n",
    "        \n",
    "    else:\n",
    "        lr = initial_lr * (0.5 ** ((epoch - warmup_epochs) / decay_steps))\n",
    "    \n",
    "    return lr\n",
    "\n",
    "lr_scheduler = LearningRateScheduler(lr_schedule)"
   ]
  },
  {
   "cell_type": "code",
   "execution_count": 9,
   "id": "66c86c3c-22e8-4f5e-820f-5ecded5784d5",
   "metadata": {},
   "outputs": [],
   "source": [
    "# Определяет насколько сильно должна быть снижена скорость обучения, 'patience' - количество эпох без улучшений, \n",
    "# после которых скорость обучения будет снижена, а 'min_lr' - нижняя граница скорости обучения\n",
    "reduce_lr = ReduceLROnPlateau(monitor='loss', factor=0.5, patience=25, min_lr=1e-6)"
   ]
  },
  {
   "cell_type": "code",
   "execution_count": 10,
   "id": "e6577833-6083-4a38-8ca0-67cc54490283",
   "metadata": {},
   "outputs": [],
   "source": [
    "# Определяет количество эпох без улучшений, после которых обучение будет остановлено\n",
    "early_stopping = EarlyStopping(monitor='loss', patience=25, restore_best_weights=True)"
   ]
  },
  {
   "cell_type": "markdown",
   "id": "84f0dc29-8001-4981-8f3a-50951664f99b",
   "metadata": {},
   "source": [
    "### *Применение оптимизатора и компиляция модели* ###"
   ]
  },
  {
   "cell_type": "code",
   "execution_count": 11,
   "id": "73a6e4c5-9569-447e-9e96-05c4fefc0d6a",
   "metadata": {},
   "outputs": [],
   "source": [
    "# Stochastic Gradient Descent - оптимизационный алгоритм, используемый для обучения моделей машинного обучения. \n",
    "# Основная идея SGD заключается в том, чтобы минимизировать функцию потерь, обновляя параметры модели в направлении, \n",
    "# противоположном градиенту функции потерь\n",
    "sgd_optimizer = SGD(learning_rate=0.01)\n",
    "model.compile(optimizer=sgd_optimizer, loss='mean_absolute_error')"
   ]
  },
  {
   "cell_type": "markdown",
   "id": "a53b6174-265c-4803-8c99-af06946e4c1c",
   "metadata": {
    "tags": []
   },
   "source": [
    "### *Обучение модели* ###"
   ]
  },
  {
   "cell_type": "code",
   "execution_count": 12,
   "id": "f93a97eb-5d3c-45cb-bc2a-17ba922810f8",
   "metadata": {},
   "outputs": [
    {
     "name": "stdout",
     "output_type": "stream",
     "text": [
      "Epoch 1/15\n",
      "36774/36774 [==============================] - 51s 1ms/step - loss: 11.6056 - lr: 2.0000e-05\n",
      "Epoch 2/15\n",
      "36774/36774 [==============================] - 47s 1ms/step - loss: 6.2562 - lr: 4.0000e-05\n",
      "Epoch 3/15\n",
      "36774/36774 [==============================] - 51s 1ms/step - loss: 4.2548 - lr: 6.0000e-05\n",
      "Epoch 4/15\n",
      "36774/36774 [==============================] - 48s 1ms/step - loss: 3.9492 - lr: 8.0000e-05\n",
      "Epoch 5/15\n",
      "36774/36774 [==============================] - 51s 1ms/step - loss: 3.6665 - lr: 1.0000e-04\n",
      "Epoch 6/15\n",
      "36774/36774 [==============================] - 48s 1ms/step - loss: 3.4138 - lr: 1.0000e-04\n",
      "Epoch 7/15\n",
      "36774/36774 [==============================] - 45s 1ms/step - loss: 3.2111 - lr: 9.3303e-05\n",
      "Epoch 8/15\n",
      "36774/36774 [==============================] - 48s 1ms/step - loss: 3.0416 - lr: 8.7055e-05\n",
      "Epoch 9/15\n",
      "36774/36774 [==============================] - 46s 1ms/step - loss: 2.9090 - lr: 8.1225e-05\n",
      "Epoch 10/15\n",
      "36774/36774 [==============================] - 48s 1ms/step - loss: 2.7991 - lr: 7.5786e-05\n",
      "Epoch 11/15\n",
      "36774/36774 [==============================] - 47s 1ms/step - loss: 2.7045 - lr: 7.0711e-05\n",
      "Epoch 12/15\n",
      "36774/36774 [==============================] - 49s 1ms/step - loss: 2.6276 - lr: 6.5975e-05\n",
      "Epoch 13/15\n",
      "36774/36774 [==============================] - 50s 1ms/step - loss: 2.5659 - lr: 6.1557e-05\n",
      "Epoch 14/15\n",
      "36774/36774 [==============================] - 44s 1ms/step - loss: 2.5222 - lr: 5.7435e-05\n",
      "Epoch 15/15\n",
      "36774/36774 [==============================] - 47s 1ms/step - loss: 2.4696 - lr: 5.3589e-05\n"
     ]
    },
    {
     "data": {
      "text/plain": [
       "<keras.src.callbacks.History at 0x1df5f327610>"
      ]
     },
     "execution_count": 12,
     "metadata": {},
     "output_type": "execute_result"
    }
   ],
   "source": [
    "model.fit(X_train_scaled, y_train, epochs=15, batch_size=16, callbacks=[lr_scheduler, reduce_lr, early_stopping])"
   ]
  },
  {
   "cell_type": "markdown",
   "id": "b080a4a7-19ce-45bf-b608-953ecfdef502",
   "metadata": {
    "tags": []
   },
   "source": [
    "### *Результативность модели* ###"
   ]
  },
  {
   "cell_type": "code",
   "execution_count": 13,
   "id": "9f7290df-e1a0-407c-94ae-041f130ce639",
   "metadata": {},
   "outputs": [
    {
     "name": "stdout",
     "output_type": "stream",
     "text": [
      "4597/4597 [==============================] - 6s 1ms/step\n",
      "Mean Squared Error: 1.2553\n",
      "Mean Absolute Error: 0.7893\n",
      "R-squared: 0.9811\n"
     ]
    }
   ],
   "source": [
    "prediction = model.predict(X_test_scaled)\n",
    "\n",
    "print('Mean Squared Error: {:.4f}'.format(mean_squared_error(y_test, prediction)))\n",
    "print('Mean Absolute Error: {:.4f}'.format(mean_absolute_error(y_test, prediction)))\n",
    "print('R-squared: {:.4f}'.format(r2_score(y_test, prediction)))"
   ]
  },
  {
   "cell_type": "markdown",
   "id": "09e30eb4-61b8-4041-b89b-abf720697b7d",
   "metadata": {
    "tags": []
   },
   "source": [
    "### *Сохранение модели* ###"
   ]
  },
  {
   "cell_type": "code",
   "execution_count": 14,
   "id": "d8a34cc1-9e56-4af2-9fe9-9faf793605a4",
   "metadata": {},
   "outputs": [],
   "source": [
    "model.save('best_model_full_year.keras')"
   ]
  },
  {
   "cell_type": "markdown",
   "id": "6a1e7fe7-78b8-4c0d-a046-840ec992ca79",
   "metadata": {},
   "source": [
    "### *Загрузка модели* ###"
   ]
  },
  {
   "cell_type": "code",
   "execution_count": 15,
   "id": "c654de02-004d-434a-a9b4-4acf039b2457",
   "metadata": {},
   "outputs": [],
   "source": [
    "# loaded_model = load_model('best_model.keras')"
   ]
  }
 ],
 "metadata": {
  "kernelspec": {
   "display_name": "Python 3 (ipykernel)",
   "language": "python",
   "name": "python3"
  },
  "language_info": {
   "codemirror_mode": {
    "name": "ipython",
    "version": 3
   },
   "file_extension": ".py",
   "mimetype": "text/x-python",
   "name": "python",
   "nbconvert_exporter": "python",
   "pygments_lexer": "ipython3",
   "version": "3.11.4"
  }
 },
 "nbformat": 4,
 "nbformat_minor": 5
}
