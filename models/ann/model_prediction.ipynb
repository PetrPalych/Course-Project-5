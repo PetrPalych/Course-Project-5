{
 "cells": [
  {
   "cell_type": "markdown",
   "id": "155177f9-b868-4e1d-a9db-102064373a42",
   "metadata": {},
   "source": [
    "### *Импорты* ###"
   ]
  },
  {
   "cell_type": "code",
   "execution_count": 1,
   "id": "6f52b859-f151-4eb3-b070-ccb8f69e8222",
   "metadata": {},
   "outputs": [],
   "source": [
    "import numpy as np\n",
    "import pandas as pd\n",
    "import joblib\n",
    "\n",
    "from sklearn.preprocessing import StandardScaler\n",
    "\n",
    "from tensorflow.keras.models import load_model\n",
    "\n",
    "from datetime import datetime, timedelta"
   ]
  },
  {
   "cell_type": "markdown",
   "id": "8c6800cd-05fa-4ec8-bee1-60d379db05ce",
   "metadata": {},
   "source": [
    "### *Загрузка файла и стандартизирование данных* ###"
   ]
  },
  {
   "cell_type": "code",
   "execution_count": 2,
   "id": "a14f29b3-106b-46cf-af5d-be9b9f713a39",
   "metadata": {},
   "outputs": [],
   "source": [
    "data = pd.read_csv('../ann/../../db/basel(1940-2023).csv')\n",
    "\n",
    "scaler_temperature = joblib.load('scalers/scaler_temperature.joblib')"
   ]
  },
  {
   "cell_type": "markdown",
   "id": "97538af4-f905-47d6-aa55-2ac21202640e",
   "metadata": {},
   "source": [
    "### *Загрузка моделей* ###"
   ]
  },
  {
   "cell_type": "code",
   "execution_count": 3,
   "id": "19ef9279-4c50-4d17-b80c-c240db5c862b",
   "metadata": {},
   "outputs": [],
   "source": [
    "model_temperature = load_model('best_models/best_model_temperature.keras')"
   ]
  },
  {
   "cell_type": "code",
   "execution_count": 4,
   "id": "6627b125-3368-4c6c-a29e-c2605bff6d54",
   "metadata": {},
   "outputs": [],
   "source": [
    "def predict_weather_next_hours(date):\n",
    "    year, month, day, hour = map(int, date.split('.'))                                     \n",
    "\n",
    "    current_hour_data = get_current_hour_data(year, month, day, hour)\n",
    "    last_5_hours_data = get_last_5_hours_data(year, month, day, hour)\n",
    "    last_5_days_data = get_last_5_days_data(year, month, day, hour)\n",
    "\n",
    "    temperature_prediction = predict_temperature(current_hour_data, last_5_hours_data, last_5_days_data)\n",
    "    print('Predicted value: {}'.format(temperature_prediction))"
   ]
  },
  {
   "cell_type": "code",
   "execution_count": 5,
   "id": "db12412c-1040-4a06-937c-91930638ee0a",
   "metadata": {
    "tags": []
   },
   "outputs": [],
   "source": [
    "def get_current_hour_data(year, month, day, hour):\n",
    "    current_hour_data = data[(data['Year'] == year) &\n",
    "                             (data['Month'] == month) &\n",
    "                             (data['Day'] == day) &\n",
    "                             (data['Hour'] == hour)]\n",
    "    \n",
    "    # Если данные о текущем часе неизвестны, будут взяты данные прошлого года\n",
    "    while current_hour_data.empty:\n",
    "        year -= 1\n",
    "        \n",
    "        current_hour_data = data[(data['Year'] == year) &\n",
    "                         (data['Month'] == month) &\n",
    "                         (data['Day'] == day) &\n",
    "                         (data['Hour'] == hour)]\n",
    "        \n",
    "    return current_hour_data"
   ]
  },
  {
   "cell_type": "code",
   "execution_count": 6,
   "id": "0fd334d3-f333-4810-b74d-b4ccbb42ac9c",
   "metadata": {
    "tags": []
   },
   "outputs": [],
   "source": [
    "def get_last_5_hours_data(year, month, day, hour):\n",
    "    target_date = datetime(year, month, day, hour)\n",
    "    target_dates = [target_date - timedelta(hours=i) for i in range(1, 6)]\n",
    "\n",
    "    last_5_hours_data = pd.concat([data[(data['Year'] == date.year) &\n",
    "                                       (data['Month'] == date.month) &\n",
    "                                       (data['Day'] == date.day) &\n",
    "                                       (data['Hour'] == date.hour)] for date in target_dates], ignore_index=True)\n",
    "    \n",
    "    # Если данные о последних 5 часах перед предсказываемой датой неизвестны, будут взяты данные прошлого года\n",
    "    while last_5_hours_data.empty:\n",
    "        target_date -= timedelta(days=365)\n",
    "        target_dates = [target_date - timedelta(hours=i) for i in range(1, 6)]\n",
    "\n",
    "        last_5_hours_data = pd.concat([data[(data['Year'] == date.year) &\n",
    "                                           (data['Month'] == date.month) &\n",
    "                                           (data['Day'] == date.day) &\n",
    "                                           (data['Hour'] == date.hour)] for date in target_dates], ignore_index=True)\n",
    "\n",
    "    return last_5_hours_data"
   ]
  },
  {
   "cell_type": "code",
   "execution_count": 7,
   "id": "d07f75c7-1fc4-4ac9-883f-f5279df8ce6c",
   "metadata": {
    "tags": []
   },
   "outputs": [],
   "source": [
    "def get_last_5_days_data(year, month, day, hour):\n",
    "    target_date = datetime(year, month, day, hour)\n",
    "    target_dates = [target_date - timedelta(days=i) for i in range(1, 6)]\n",
    "    \n",
    "    last_5_days_data = pd.concat([data[(data['Year'] == date.year) &\n",
    "                                       (data['Month'] == date.month) &\n",
    "                                       (data['Day'] == date.day) &\n",
    "                                       (data['Hour'] == date.hour)] for date in target_dates], ignore_index=True)\n",
    "    \n",
    "    # Если данные о последних 5 днях перед предсказываемой датой неизвестны, будут взяты данные прошлого года\n",
    "    while last_5_days_data.empty:\n",
    "        target_date -= timedelta(days=365)\n",
    "        target_dates = [target_date - timedelta(days=i) for i in range(1, 6)]\n",
    "\n",
    "        last_5_days_data = pd.concat([data[(data['Year'] == date.year) &\n",
    "                                           (data['Month'] == date.month) &\n",
    "                                           (data['Day'] == date.day) &\n",
    "                                           (data['Hour'] == date.hour)] for date in target_dates], ignore_index=True)\n",
    "\n",
    "    return last_5_days_data"
   ]
  },
  {
   "cell_type": "code",
   "execution_count": 8,
   "id": "40ce5d25-27f4-4430-bb2a-609ea9938243",
   "metadata": {
    "tags": []
   },
   "outputs": [],
   "source": [
    "def predict_temperature(current_hour_data, last_5_hours_data, last_5_days_data):\n",
    "    current_hour_data = current_hour_data.drop(['Temperature [2 m elevation corrected]'], axis=1)\n",
    "    last_5_hours_data = last_5_hours_data.drop(['Temperature [2 m elevation corrected]'], axis=1)\n",
    "    last_5_days_data = last_5_days_data.drop(['Temperature [2 m elevation corrected]'], axis=1)\n",
    "    \n",
    "    middle_point = (current_hour_data + last_5_hours_data.mean() + last_5_days_data.mean()) / 3\n",
    "    middle_point_scaled = scaler_temperature.transform(middle_point)\n",
    "    \n",
    "    prediction = model_temperature.predict(middle_point_scaled)\n",
    "    return prediction"
   ]
  },
  {
   "cell_type": "code",
   "execution_count": 9,
   "id": "d30adc0c-78c4-4541-8442-1766452179c5",
   "metadata": {
    "tags": []
   },
   "outputs": [
    {
     "name": "stdout",
     "output_type": "stream",
     "text": [
      "1/1 [==============================] - 0s 72ms/step\n",
      "Predicted value: [[3.7818642]]\n",
      "1/1 [==============================] - 0s 0s/step\n",
      "Predicted value: [[3.9053988]]\n",
      "1/1 [==============================] - 0s 5ms/step\n",
      "Predicted value: [[3.2977273]]\n",
      "1/1 [==============================] - 0s 16ms/step\n",
      "Predicted value: [[2.8577976]]\n",
      "1/1 [==============================] - 0s 24ms/step\n",
      "Predicted value: [[2.4400883]]\n",
      "1/1 [==============================] - 0s 6ms/step\n",
      "Predicted value: [[2.7357137]]\n",
      "1/1 [==============================] - 0s 16ms/step\n",
      "Predicted value: [[2.59143]]\n",
      "1/1 [==============================] - 0s 16ms/step\n",
      "Predicted value: [[2.2057095]]\n",
      "1/1 [==============================] - 0s 16ms/step\n",
      "Predicted value: [[2.1554718]]\n",
      "1/1 [==============================] - 0s 0s/step\n",
      "Predicted value: [[2.036762]]\n",
      "1/1 [==============================] - 0s 16ms/step\n",
      "Predicted value: [[2.159098]]\n",
      "1/1 [==============================] - 0s 16ms/step\n",
      "Predicted value: [[1.9217606]]\n",
      "1/1 [==============================] - 0s 0s/step\n",
      "Predicted value: [[1.753511]]\n",
      "1/1 [==============================] - 0s 26ms/step\n",
      "Predicted value: [[1.5632933]]\n",
      "1/1 [==============================] - 0s 16ms/step\n",
      "Predicted value: [[1.6567645]]\n",
      "1/1 [==============================] - 0s 31ms/step\n",
      "Predicted value: [[2.0885766]]\n",
      "1/1 [==============================] - 0s 18ms/step\n",
      "Predicted value: [[2.1164093]]\n",
      "1/1 [==============================] - 0s 13ms/step\n",
      "Predicted value: [[2.510494]]\n",
      "1/1 [==============================] - 0s 16ms/step\n",
      "Predicted value: [[2.80197]]\n",
      "1/1 [==============================] - 0s 18ms/step\n",
      "Predicted value: [[3.2144346]]\n",
      "1/1 [==============================] - 0s 18ms/step\n",
      "Predicted value: [[3.303939]]\n",
      "1/1 [==============================] - 0s 18ms/step\n",
      "Predicted value: [[2.9854164]]\n",
      "1/1 [==============================] - 0s 15ms/step\n",
      "Predicted value: [[2.9068975]]\n",
      "1/1 [==============================] - 0s 16ms/step\n",
      "Predicted value: [[2.6317964]]\n"
     ]
    }
   ],
   "source": [
    "for i in range(24):\n",
    "    predict_weather_next_hours('2023.12.3.{}'.format(i))"
   ]
  },
  {
   "cell_type": "code",
   "execution_count": null,
   "id": "034fc6a9-c4a4-46ea-a647-65ec9dfff931",
   "metadata": {},
   "outputs": [],
   "source": []
  }
 ],
 "metadata": {
  "kernelspec": {
   "display_name": "Python 3 (ipykernel)",
   "language": "python",
   "name": "python3"
  },
  "language_info": {
   "codemirror_mode": {
    "name": "ipython",
    "version": 3
   },
   "file_extension": ".py",
   "mimetype": "text/x-python",
   "name": "python",
   "nbconvert_exporter": "python",
   "pygments_lexer": "ipython3",
   "version": "3.11.4"
  }
 },
 "nbformat": 4,
 "nbformat_minor": 5
}
