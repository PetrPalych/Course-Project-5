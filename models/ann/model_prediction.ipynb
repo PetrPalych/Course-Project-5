{
 "cells": [
  {
   "cell_type": "markdown",
   "id": "155177f9-b868-4e1d-a9db-102064373a42",
   "metadata": {},
   "source": [
    "### *Импорты* ###"
   ]
  },
  {
   "cell_type": "code",
   "execution_count": 1,
   "id": "6f52b859-f151-4eb3-b070-ccb8f69e8222",
   "metadata": {},
   "outputs": [],
   "source": [
    "import numpy as np\n",
    "import pandas as pd\n",
    "import joblib\n",
    "\n",
    "from sklearn.preprocessing import StandardScaler\n",
    "from tensorflow.keras.models import load_model\n",
    "from datetime import datetime, timedelta"
   ]
  },
  {
   "cell_type": "markdown",
   "id": "8c6800cd-05fa-4ec8-bee1-60d379db05ce",
   "metadata": {},
   "source": [
    "### *Загрузка файла и стандартизаторов данных* ###"
   ]
  },
  {
   "cell_type": "code",
   "execution_count": 2,
   "id": "a14f29b3-106b-46cf-af5d-be9b9f713a39",
   "metadata": {},
   "outputs": [],
   "source": [
    "data = pd.read_csv('../ann/../../db/basel(1940-2023).csv')\n",
    "\n",
    "scaler_temperature = joblib.load('scalers/scaler_temperature.joblib')\n",
    "scaler_relative_humidity = joblib.load('scalers/scaler_relative_humidity.joblib')\n",
    "scaler_wind_speed = joblib.load('scalers/scaler_wind_speed.joblib')"
   ]
  },
  {
   "cell_type": "markdown",
   "id": "97538af4-f905-47d6-aa55-2ac21202640e",
   "metadata": {},
   "source": [
    "### *Загрузка моделей* ###"
   ]
  },
  {
   "cell_type": "code",
   "execution_count": 3,
   "id": "19ef9279-4c50-4d17-b80c-c240db5c862b",
   "metadata": {},
   "outputs": [],
   "source": [
    "model_temperature = load_model('best_models/best_model_temperature.keras')\n",
    "model_relative_humidity = load_model('best_models/best_model_relative_humidity.keras')\n",
    "model_wind_speed = load_model('best_models/best_model_wind_speed.keras')"
   ]
  },
  {
   "cell_type": "markdown",
   "id": "5a0d44a7-8a19-404e-92a4-1a7b72e96069",
   "metadata": {},
   "source": [
    "### *Классы, хранящие данные прогноза погоды* ###"
   ]
  },
  {
   "cell_type": "code",
   "execution_count": 4,
   "id": "b7dbc3e4-d9ba-4a71-a384-971aaa287d07",
   "metadata": {
    "tags": []
   },
   "outputs": [],
   "source": [
    "class HourlyForecast:\n",
    "    def __init__(self, year, month, day, hour, temperature, relative_humidity, wind_speed):\n",
    "        self.year = year\n",
    "        self.month = month\n",
    "        self.day = day\n",
    "        self.hour = hour\n",
    "        self.temperature = temperature[0][0]\n",
    "        self.relative_humidity = relative_humidity[0][0]\n",
    "        self.wind_speed = wind_speed[0][0]"
   ]
  },
  {
   "cell_type": "code",
   "execution_count": 5,
   "id": "a4fe8a9a-57ee-4229-a582-54da7da9433d",
   "metadata": {
    "tags": []
   },
   "outputs": [],
   "source": [
    "class DailyForecast:\n",
    "    def __init__(self, year, month, day, temperature):\n",
    "        self.year = year\n",
    "        self.month = month\n",
    "        self.day = day\n",
    "        self.temperature = temperature[0][0]"
   ]
  },
  {
   "cell_type": "markdown",
   "id": "47553c5a-6744-46ec-be0b-c7abae5ff6e6",
   "metadata": {},
   "source": [
    "### *Функции, выполняющие рассчеты* ###"
   ]
  },
  {
   "cell_type": "code",
   "execution_count": 6,
   "id": "6627b125-3368-4c6c-a29e-c2605bff6d54",
   "metadata": {
    "tags": []
   },
   "outputs": [],
   "source": [
    "# Функция, предсказывающая погоду на ближайщие от текущей даты 5 часов и 5 дней\n",
    "def predict_weather(date):\n",
    "    year, month, day, hour = map(int, date.split('.'))\n",
    "    current_date = datetime(year, month, day, hour)\n",
    "    current_hour_data = get_current_hour_data(year, month, day, hour)\n",
    "\n",
    "    hourly_forecast = []\n",
    "    daily_forecast = []\n",
    "    for i in range(5):\n",
    "        target_hour = current_date + timedelta(hours=i)\n",
    "        target_day = current_date + timedelta(days=i)\n",
    "\n",
    "        hourly_weather_variations = get_last_5_hours_data(target_hour.year, target_hour.month, target_hour.day, target_hour.hour)\n",
    "        daily_weather_variations = get_last_5_days_data(target_day.year, target_day.month, target_day.day, target_day.hour)\n",
    "\n",
    "        hourly_temperature_prediction = predict_temperature_next_hour(current_hour_data, hourly_weather_variations)\n",
    "        \n",
    "        hourly_relative_humidity_prediction = predict_relative_humidity_next_hour(current_hour_data, \n",
    "                                                                                  hourly_weather_variations, \n",
    "                                                                                  daily_weather_variations)\n",
    "        \n",
    "        hourly_wind_speed_prediction = predict_wind_speed_next_hour(current_hour_data, \n",
    "                                                                    hourly_weather_variations, \n",
    "                                                                    daily_weather_variations)\n",
    "        \n",
    "        hourly_forecast.append(HourlyForecast(target_hour.year, \n",
    "                                              target_hour.month, \n",
    "                                              target_hour.day, \n",
    "                                              target_hour.hour, \n",
    "                                              hourly_temperature_prediction,\n",
    "                                              hourly_relative_humidity_prediction,\n",
    "                                              hourly_wind_speed_prediction))\n",
    "        \n",
    "        daily_temperature_prediction = predict_temperature_next_day(current_hour_data, \n",
    "                                                                    hourly_weather_variations, \n",
    "                                                                    daily_weather_variations)\n",
    "        \n",
    "        daily_forecast.append(DailyForecast(target_hour.year, \n",
    "                                            target_hour.month, \n",
    "                                            target_hour.day, \n",
    "                                            daily_temperature_prediction))\n",
    "\n",
    "    return {'hourly': hourly_forecast, 'daily': daily_forecast}"
   ]
  },
  {
   "cell_type": "code",
   "execution_count": 7,
   "id": "db12412c-1040-4a06-937c-91930638ee0a",
   "metadata": {
    "tags": []
   },
   "outputs": [],
   "source": [
    "def get_current_hour_data(year, month, day, hour):\n",
    "    current_hour_data = data[(data['Year'] == year) &\n",
    "                             (data['Month'] == month) &\n",
    "                             (data['Day'] == day) &\n",
    "                             (data['Hour'] == hour)]\n",
    "    \n",
    "    # Если данные о текущем часе неизвестны, будут взяты данные прошлого года\n",
    "    while current_hour_data.empty:\n",
    "        year -= 1\n",
    "        \n",
    "        current_hour_data = data[(data['Year'] == year) &\n",
    "                         (data['Month'] == month) &\n",
    "                         (data['Day'] == day) &\n",
    "                         (data['Hour'] == hour)]\n",
    "        \n",
    "    return current_hour_data"
   ]
  },
  {
   "cell_type": "code",
   "execution_count": 8,
   "id": "0fd334d3-f333-4810-b74d-b4ccbb42ac9c",
   "metadata": {
    "tags": []
   },
   "outputs": [],
   "source": [
    "def get_last_5_hours_data(year, month, day, hour):\n",
    "    target_date = datetime(year, month, day, hour)\n",
    "    target_dates = [target_date - timedelta(hours=i) for i in range(1, 6)]\n",
    "\n",
    "    last_5_hours_data = pd.concat([data[(data['Year'] == date.year) &\n",
    "                                       (data['Month'] == date.month) &\n",
    "                                       (data['Day'] == date.day) &\n",
    "                                       (data['Hour'] == date.hour)] for date in target_dates], ignore_index=True)\n",
    "    \n",
    "    # Если данные о последних 5 часах перед предсказываемой датой неизвестны, будут взяты данные прошлого года\n",
    "    while last_5_hours_data.empty:\n",
    "        target_date -= timedelta(days=365)\n",
    "        target_dates = [target_date - timedelta(hours=i) for i in range(1, 6)]\n",
    "\n",
    "        last_5_hours_data = pd.concat([data[(data['Year'] == date.year) &\n",
    "                                           (data['Month'] == date.month) &\n",
    "                                           (data['Day'] == date.day) &\n",
    "                                           (data['Hour'] == date.hour)] for date in target_dates], ignore_index=True)\n",
    "\n",
    "    return last_5_hours_data"
   ]
  },
  {
   "cell_type": "code",
   "execution_count": 9,
   "id": "d07f75c7-1fc4-4ac9-883f-f5279df8ce6c",
   "metadata": {
    "tags": []
   },
   "outputs": [],
   "source": [
    "def get_last_5_days_data(year, month, day, hour):\n",
    "    target_date = datetime(year, month, day, hour)\n",
    "    target_dates = [target_date - timedelta(days=i) for i in range(1, 6)]\n",
    "    \n",
    "    last_5_days_data = pd.concat([data[(data['Year'] == date.year) &\n",
    "                                       (data['Month'] == date.month) &\n",
    "                                       (data['Day'] == date.day)] for date in target_dates], ignore_index=True)\n",
    "    \n",
    "    # Если данные о последних 5 днях перед предсказываемой датой неизвестны, будут взяты данные прошлого года\n",
    "    while last_5_days_data.empty:\n",
    "        target_date -= timedelta(days=365)\n",
    "        target_dates = [target_date - timedelta(days=i) for i in range(1, 6)]\n",
    "\n",
    "        last_5_days_data = pd.concat([data[(data['Year'] == date.year) &\n",
    "                                           (data['Month'] == date.month) &\n",
    "                                           (data['Day'] == date.day)] for date in target_dates], ignore_index=True)\n",
    "\n",
    "    return last_5_days_data"
   ]
  },
  {
   "cell_type": "code",
   "execution_count": 10,
   "id": "40ce5d25-27f4-4430-bb2a-609ea9938243",
   "metadata": {
    "tags": []
   },
   "outputs": [],
   "source": [
    "def predict_temperature_next_hour(current_hour_data, last_5_hours_data):\n",
    "    current_hour_data = current_hour_data.drop(['Temperature [2 m elevation corrected]'], axis=1)\n",
    "    last_5_hours_data = last_5_hours_data.drop(['Temperature [2 m elevation corrected]'], axis=1)\n",
    "    \n",
    "    middle_point = (current_hour_data + last_5_hours_data.mean()) / 2\n",
    "    middle_point_scaled = scaler_temperature.transform(middle_point)\n",
    "    \n",
    "    prediction = model_temperature.predict(middle_point_scaled)\n",
    "    return prediction"
   ]
  },
  {
   "cell_type": "code",
   "execution_count": 11,
   "id": "79fc3ce3-1bff-4d1f-b6de-0e60c45ae12f",
   "metadata": {},
   "outputs": [],
   "source": [
    "def predict_temperature_next_day(current_hour_data, last_5_hours_data, last_5_days_data):\n",
    "    current_hour_data = current_hour_data.drop(['Temperature [2 m elevation corrected]'], axis=1)\n",
    "    last_5_hours_data = last_5_hours_data.drop(['Temperature [2 m elevation corrected]'], axis=1)\n",
    "    last_5_days_data = last_5_days_data.drop(['Temperature [2 m elevation corrected]'], axis=1)\n",
    "    \n",
    "    middle_point = (current_hour_data + last_5_hours_data.mean() + last_5_days_data.mean()) / 3\n",
    "    middle_point_scaled = scaler_temperature.transform(middle_point)\n",
    "    \n",
    "    prediction = model_temperature.predict(middle_point_scaled)\n",
    "    return prediction"
   ]
  },
  {
   "cell_type": "code",
   "execution_count": 12,
   "id": "8aba9724-1c79-44a3-bdd6-155417c2282d",
   "metadata": {
    "tags": []
   },
   "outputs": [],
   "source": [
    "def predict_relative_humidity_next_hour(current_hour_data, last_5_hours_data, last_5_days_data):\n",
    "    current_hour_data = current_hour_data.drop(['Relative Humidity [2 m]'], axis=1)\n",
    "    last_5_hours_data = last_5_hours_data.drop(['Relative Humidity [2 m]'], axis=1)\n",
    "    last_5_days_data = last_5_days_data.drop(['Relative Humidity [2 m]'], axis=1)\n",
    "\n",
    "    middle_point = (current_hour_data + last_5_hours_data.mean() + last_5_days_data.mean()) / 3\n",
    "    middle_point_scaled = scaler_relative_humidity.transform(middle_point)\n",
    "    \n",
    "    prediction = model_relative_humidity.predict(middle_point_scaled)\n",
    "    return prediction"
   ]
  },
  {
   "cell_type": "code",
   "execution_count": 13,
   "id": "1eee2173-a04d-40c6-86e4-e35d615266b6",
   "metadata": {
    "tags": []
   },
   "outputs": [],
   "source": [
    "def predict_wind_speed_next_hour(current_hour_data, last_5_hours_data, last_5_days_data):\n",
    "    current_hour_data = current_hour_data.drop(['Wind Speed [10 m]'], axis=1)\n",
    "    last_5_hours_data = last_5_hours_data.drop(['Wind Speed [10 m]'], axis=1)\n",
    "    last_5_days_data = last_5_days_data.drop(['Wind Speed [10 m]'], axis=1)\n",
    "\n",
    "    middle_point = (current_hour_data + last_5_hours_data.mean() + last_5_days_data.mean()) / 3\n",
    "    middle_point_scaled = scaler_wind_speed.transform(middle_point)\n",
    "    \n",
    "    prediction = model_wind_speed.predict(middle_point_scaled)\n",
    "    return prediction"
   ]
  },
  {
   "cell_type": "code",
   "execution_count": 14,
   "id": "dfce4889-8192-4605-9edb-f01185cd95f0",
   "metadata": {},
   "outputs": [],
   "source": [
    "def print_weather_report(weather_report):\n",
    "    for hwr in weather_report['hourly']:\n",
    "        print('Date: {}.{}.{} {}:00 \\n Temperature: {} °C \\n Relative humidity: {}% \\n Wind speed: {} m/s \\n'.format(\n",
    "            hwr.year, hwr.month, hwr.day, hwr.hour, hwr.temperature, hwr.relative_humidity, hwr.wind_speed))\n",
    "        \n",
    "    for dwr in weather_report['daily']:\n",
    "        print('Date: {}.{}.{} \\n Temperature: {} °C \\n'.format(dwr.year, dwr.month, dwr.day, dwr.temperature))"
   ]
  },
  {
   "cell_type": "code",
   "execution_count": 15,
   "id": "034fc6a9-c4a4-46ea-a647-65ec9dfff931",
   "metadata": {},
   "outputs": [
    {
     "name": "stdout",
     "output_type": "stream",
     "text": [
      "1/1 [==============================] - 0s 111ms/step\n",
      "1/1 [==============================] - 0s 56ms/step\n",
      "1/1 [==============================] - 0s 58ms/step\n",
      "1/1 [==============================] - 0s 12ms/step\n",
      "1/1 [==============================] - 0s 12ms/step\n",
      "1/1 [==============================] - 0s 12ms/step\n",
      "1/1 [==============================] - 0s 11ms/step\n",
      "1/1 [==============================] - 0s 12ms/step\n",
      "1/1 [==============================] - 0s 74ms/step\n",
      "1/1 [==============================] - 0s 59ms/step\n",
      "1/1 [==============================] - 0s 56ms/step\n",
      "1/1 [==============================] - 0s 57ms/step\n",
      "1/1 [==============================] - 0s 53ms/step\n",
      "1/1 [==============================] - 0s 53ms/step\n",
      "1/1 [==============================] - 0s 53ms/step\n",
      "1/1 [==============================] - 0s 56ms/step\n",
      "1/1 [==============================] - 0s 58ms/step\n",
      "1/1 [==============================] - 0s 55ms/step\n",
      "1/1 [==============================] - 0s 55ms/step\n",
      "1/1 [==============================] - 0s 56ms/step\n"
     ]
    }
   ],
   "source": [
    "weather_report = predict_weather('2023.12.21.14')"
   ]
  },
  {
   "cell_type": "code",
   "execution_count": 16,
   "id": "ffb5d0a7-442c-4563-8bc4-d6edb5738a04",
   "metadata": {
    "tags": []
   },
   "outputs": [
    {
     "name": "stdout",
     "output_type": "stream",
     "text": [
      "Date: 2023.12.21 14:00 \n",
      " Temperature: 9.493486404418945 °C \n",
      " Relative humidity: 92.62919616699219% \n",
      " Wind speed: 2.1957242488861084 m/s \n",
      "\n",
      "Date: 2023.12.21 15:00 \n",
      " Temperature: 9.455698013305664 °C \n",
      " Relative humidity: 92.37496185302734% \n",
      " Wind speed: 2.210142135620117 m/s \n",
      "\n",
      "Date: 2023.12.21 16:00 \n",
      " Temperature: 9.46554946899414 °C \n",
      " Relative humidity: 91.54730987548828% \n",
      " Wind speed: 2.440941095352173 m/s \n",
      "\n",
      "Date: 2023.12.21 17:00 \n",
      " Temperature: 9.530021667480469 °C \n",
      " Relative humidity: 90.7882308959961% \n",
      " Wind speed: 2.6804609298706055 m/s \n",
      "\n",
      "Date: 2023.12.21 18:00 \n",
      " Temperature: 9.621610641479492 °C \n",
      " Relative humidity: 90.14554595947266% \n",
      " Wind speed: 2.782921314239502 m/s \n",
      "\n",
      "Date: 2023.12.21 \n",
      " Temperature: 6.565884113311768 °C \n",
      "\n",
      "Date: 2023.12.21 \n",
      " Temperature: 7.288824081420898 °C \n",
      "\n",
      "Date: 2023.12.21 \n",
      " Temperature: 8.319143295288086 °C \n",
      "\n",
      "Date: 2023.12.21 \n",
      " Temperature: 9.397512435913086 °C \n",
      "\n",
      "Date: 2023.12.21 \n",
      " Temperature: 9.893287658691406 °C \n",
      "\n"
     ]
    }
   ],
   "source": [
    "print_weather_report(weather_report)"
   ]
  }
 ],
 "metadata": {
  "kernelspec": {
   "display_name": "Python 3 (ipykernel)",
   "language": "python",
   "name": "python3"
  },
  "language_info": {
   "codemirror_mode": {
    "name": "ipython",
    "version": 3
   },
   "file_extension": ".py",
   "mimetype": "text/x-python",
   "name": "python",
   "nbconvert_exporter": "python",
   "pygments_lexer": "ipython3",
   "version": "3.11.4"
  }
 },
 "nbformat": 4,
 "nbformat_minor": 5
}
