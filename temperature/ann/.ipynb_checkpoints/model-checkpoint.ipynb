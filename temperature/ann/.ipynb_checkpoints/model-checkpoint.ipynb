{
 "cells": [
  {
   "cell_type": "markdown",
   "id": "ccc99565-0a57-462f-aba5-d0de39d0e049",
   "metadata": {},
   "source": [
    "### *Импорты* ###"
   ]
  },
  {
   "cell_type": "code",
   "execution_count": 1,
   "id": "f795e5f0-0344-4931-a112-68aafdffa6ad",
   "metadata": {
    "tags": []
   },
   "outputs": [],
   "source": [
    "import numpy as np\n",
    "import pandas as pd\n",
    "\n",
    "from sklearn.model_selection import train_test_split\n",
    "from sklearn.preprocessing import StandardScaler\n",
    "from sklearn.metrics import mean_squared_error, mean_absolute_error, r2_score\n",
    "\n",
    "import tensorflow as tf\n",
    "\n",
    "from tensorflow import keras\n",
    "from tensorflow.keras import layers\n",
    "from tensorflow.keras.callbacks import EarlyStopping, LearningRateScheduler\n",
    "\n",
    "from keras.layers import Dropout\n",
    "from keras.models import load_model"
   ]
  },
  {
   "cell_type": "markdown",
   "id": "e527ca29-a24b-4b16-a139-5c4669ce56e9",
   "metadata": {},
   "source": [
    "### *Загрузка файла* ###"
   ]
  },
  {
   "cell_type": "code",
   "execution_count": 2,
   "id": "b68a2704-546a-4a2f-a75d-5802f98c0d37",
   "metadata": {
    "tags": []
   },
   "outputs": [],
   "source": [
    "data = pd.read_csv('../ann/../../db/basel(1940-2023).csv')"
   ]
  },
  {
   "cell_type": "markdown",
   "id": "882a1d84-a9b9-4fc1-9d10-950353860376",
   "metadata": {
    "tags": []
   },
   "source": [
    "### *Отделение признаков и таргета в отдельные датафреймы* ###"
   ]
  },
  {
   "cell_type": "code",
   "execution_count": 3,
   "id": "eaabf66f-84ae-47a4-a5c2-ce73805212b9",
   "metadata": {},
   "outputs": [],
   "source": [
    "# Необходимо удалить предсказываемые значения из датафрейма\n",
    "features = data.drop(['Temperature [2 m elevation corrected]'], axis=1)"
   ]
  },
  {
   "cell_type": "code",
   "execution_count": 4,
   "id": "74886c4f-4ef0-4339-9bcd-a96744014e90",
   "metadata": {
    "tags": []
   },
   "outputs": [],
   "source": [
    "target = data['Temperature [2 m elevation corrected]']"
   ]
  },
  {
   "cell_type": "markdown",
   "id": "75a8303b-1269-4d78-91e7-b634233d2ee2",
   "metadata": {
    "tags": []
   },
   "source": [
    "### *Разделение на обучающий и тестовый наборы* ###"
   ]
  },
  {
   "cell_type": "markdown",
   "id": "8f21fb04-c3e2-4fd8-8f76-bad987d7dabb",
   "metadata": {},
   "source": [
    "Данные не размешаны и не стратицированы для того, чтобы сохранить их структуру. Их размешивание и стратификация приведут к тому,\n",
    "что модель плохо распознает ежемесячные и ежегожные погодные паттерны"
   ]
  },
  {
   "cell_type": "code",
   "execution_count": 5,
   "id": "cacd8e17-1f31-4e4d-a0b8-c72d32c90de3",
   "metadata": {
    "tags": []
   },
   "outputs": [],
   "source": [
    "# Обучающая часть\n",
    "X_train, X_test, y_train, y_test = train_test_split(features, target, test_size=0.1, stratify=None, shuffle=False)"
   ]
  },
  {
   "cell_type": "markdown",
   "id": "ad9a69b0-8430-46b0-804b-d91a0541b49a",
   "metadata": {},
   "source": [
    "### *Стандартизация данных* ###"
   ]
  },
  {
   "cell_type": "code",
   "execution_count": 6,
   "id": "2f01f1b6-ea0c-43af-ade0-cdca40059184",
   "metadata": {},
   "outputs": [],
   "source": [
    "scaler = StandardScaler()\n",
    "\n",
    "X_train_scaled = scaler.fit_transform(X_train)\n",
    "X_test_scaled = scaler.transform(X_test)"
   ]
  },
  {
   "cell_type": "markdown",
   "id": "e217f757-0387-4e76-8035-6054a2deb7aa",
   "metadata": {},
   "source": [
    "#### Инициализация модели ####"
   ]
  },
  {
   "cell_type": "code",
   "execution_count": 7,
   "id": "6469fd6d-b185-4b50-907e-e996c511b149",
   "metadata": {
    "tags": []
   },
   "outputs": [],
   "source": [
    "model = keras.Sequential([\n",
    "            layers.Dense(512, activation='relu', input_shape=(X_train_scaled.shape[1],)),\n",
    "            layers.BatchNormalization(),\n",
    "            Dropout(0.2),\n",
    "\n",
    "            layers.Dense(256, activation='relu'),\n",
    "            layers.BatchNormalization(),\n",
    "            Dropout(0.2),\n",
    "\n",
    "            layers.Dense(128, activation='relu'),\n",
    "            layers.BatchNormalization(),\n",
    "            Dropout(0.2),\n",
    "\n",
    "            layers.Dense(64, activation='relu'),\n",
    "            layers.BatchNormalization(),\n",
    "            Dropout(0.2),\n",
    "\n",
    "            layers.Dense(32, activation='relu'),\n",
    "            layers.BatchNormalization(),\n",
    "            Dropout(0.2),\n",
    "\n",
    "            layers.Dense(1),\n",
    "        ])"
   ]
  },
  {
   "cell_type": "markdown",
   "id": "84f0dc29-8001-4981-8f3a-50951664f99b",
   "metadata": {},
   "source": [
    "#### Компиляция модели ####"
   ]
  },
  {
   "cell_type": "code",
   "execution_count": 8,
   "id": "73a6e4c5-9569-447e-9e96-05c4fefc0d6a",
   "metadata": {},
   "outputs": [],
   "source": [
    "model.compile(optimizer='adam', loss='mean_squared_error')"
   ]
  },
  {
   "cell_type": "markdown",
   "id": "59593a3c-91b5-4b95-8a7b-502d75d450f2",
   "metadata": {
    "tags": []
   },
   "source": [
    "#### Обучение модели ####"
   ]
  },
  {
   "cell_type": "code",
   "execution_count": 9,
   "id": "f93a97eb-5d3c-45cb-bc2a-17ba922810f8",
   "metadata": {},
   "outputs": [],
   "source": [
    "# early_stopping = EarlyStopping(monitor='val_loss', patience=20)\n",
    "# lr_scheduler = LearningRateScheduler(lambda epoch: 1e-3 * 10**(epoch / 20))\n",
    "\n",
    "# model.fit(X_train_scaled, y_train, epochs=10, batch_size=32, validation_split=0.2, callbacks=[early_stopping, lr_scheduler])"
   ]
  },
  {
   "cell_type": "markdown",
   "id": "b080a4a7-19ce-45bf-b608-953ecfdef502",
   "metadata": {
    "tags": []
   },
   "source": [
    "#### Результативность модели ####"
   ]
  },
  {
   "cell_type": "code",
   "execution_count": 10,
   "id": "9f7290df-e1a0-407c-94ae-041f130ce639",
   "metadata": {},
   "outputs": [],
   "source": [
    "# prediction = model.predict(X_test_scaled)\n",
    "\n",
    "# print('Mean Squared Error: {:.4f}'.format(mean_squared_error(y_test, prediction)))\n",
    "# print('Mean Absolute Error: {:.4f}'.format(mean_absolute_error(y_test, prediction)))\n",
    "# print('R-squared: {:.4f}'.format(r2_score(y_test, prediction)))"
   ]
  },
  {
   "cell_type": "markdown",
   "id": "09e30eb4-61b8-4041-b89b-abf720697b7d",
   "metadata": {
    "tags": []
   },
   "source": [
    "#### Сохранение модели ####"
   ]
  },
  {
   "cell_type": "code",
   "execution_count": 11,
   "id": "2a3cb7b1-b5de-4fa6-9ef6-88265f49f407",
   "metadata": {},
   "outputs": [],
   "source": [
    "# model.save('best_model.keras')"
   ]
  },
  {
   "cell_type": "markdown",
   "id": "7d6fbd7d-7b9a-44ca-9514-af35c4b03cdc",
   "metadata": {
    "tags": []
   },
   "source": [
    "#### Загрузка модели ####"
   ]
  },
  {
   "cell_type": "code",
   "execution_count": 12,
   "id": "4fe01e0d-05f7-44b8-a2c0-de0ff4514b81",
   "metadata": {},
   "outputs": [
    {
     "name": "stdout",
     "output_type": "stream",
     "text": [
      "2299/2299 [==============================] - 3s 1ms/step\n",
      "Mean Squared Error: 0.9637\n",
      "Mean Absolute Error: 0.7651\n",
      "R-squared: 0.9859\n"
     ]
    }
   ],
   "source": [
    "model = load_model('best_model.keras')\n",
    "\n",
    "prediction = model.predict(X_test_scaled)\n",
    "\n",
    "print('Mean Squared Error: {:.4f}'.format(mean_squared_error(y_test, prediction)))\n",
    "print('Mean Absolute Error: {:.4f}'.format(mean_absolute_error(y_test, prediction)))\n",
    "print('R-squared: {:.4f}'.format(r2_score(y_test, prediction)))"
   ]
  },
  {
   "cell_type": "code",
   "execution_count": null,
   "id": "af38299b-d145-4a1c-a815-4767a5dbc0e5",
   "metadata": {},
   "outputs": [],
   "source": []
  }
 ],
 "metadata": {
  "kernelspec": {
   "display_name": "Python 3 (ipykernel)",
   "language": "python",
   "name": "python3"
  },
  "language_info": {
   "codemirror_mode": {
    "name": "ipython",
    "version": 3
   },
   "file_extension": ".py",
   "mimetype": "text/x-python",
   "name": "python",
   "nbconvert_exporter": "python",
   "pygments_lexer": "ipython3",
   "version": "3.11.4"
  }
 },
 "nbformat": 4,
 "nbformat_minor": 5
}
