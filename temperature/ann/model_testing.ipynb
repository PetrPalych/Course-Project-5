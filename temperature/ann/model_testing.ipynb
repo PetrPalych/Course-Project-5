{
 "cells": [
  {
   "cell_type": "markdown",
   "id": "b26eb731-2577-4588-b32c-9b857f836ff8",
   "metadata": {
    "tags": []
   },
   "source": [
    "### *Импорты* ###"
   ]
  },
  {
   "cell_type": "code",
   "execution_count": 1,
   "id": "36612df0-976d-4a65-9d35-33a999d7c999",
   "metadata": {},
   "outputs": [],
   "source": [
    "import numpy as np\n",
    "import pandas as pd\n",
    "\n",
    "from sklearn.preprocessing import StandardScaler\n",
    "from sklearn.model_selection import train_test_split\n",
    "from sklearn.metrics import mean_squared_error, mean_absolute_error, r2_score\n",
    "\n",
    "from keras.models import load_model\n",
    "\n",
    "from datetime import datetime"
   ]
  },
  {
   "cell_type": "markdown",
   "id": "80ab9405-73ec-4b81-8015-2e592866ddb1",
   "metadata": {},
   "source": [
    "### *Загрузка файла* ###"
   ]
  },
  {
   "cell_type": "code",
   "execution_count": 2,
   "id": "ce11737e-0663-4aba-a185-f43bf4fefcf5",
   "metadata": {},
   "outputs": [],
   "source": [
    "data = pd.read_csv('../ann/../../db/basel(1940-2023).csv')\n",
    "features = data.drop(['Temperature [2 m elevation corrected]'], axis=1)\n",
    "target = data['Temperature [2 m elevation corrected]']"
   ]
  },
  {
   "cell_type": "markdown",
   "id": "6eef7ed6-e20c-4375-9a89-2ce6b61c2853",
   "metadata": {},
   "source": [
    "### *Загрузка модели* ###"
   ]
  },
  {
   "cell_type": "code",
   "execution_count": 3,
   "id": "a30c29be-3c38-462c-9630-d121fe7ea987",
   "metadata": {},
   "outputs": [],
   "source": [
    "model = load_model('best_model_full_year.keras')"
   ]
  },
  {
   "cell_type": "code",
   "execution_count": 4,
   "id": "80a6a376-8e3d-44b1-9e3c-424c7edbe57a",
   "metadata": {},
   "outputs": [
    {
     "data": {
      "text/plain": [
       "array([[-0.7293388 , -1.95804806, -2.02512847, ..., -1.60098742,\n",
       "        -1.6737406 , -0.79454663],\n",
       "       [-0.7293388 , -1.9650918 , -2.03405778, ..., -1.60098742,\n",
       "        -1.6737406 , -0.65008361],\n",
       "       [-0.7293388 , -1.97072679, -2.06531035, ..., -1.60098742,\n",
       "        -1.6737406 , -0.50562058],\n",
       "       ...,\n",
       "       [-0.7293388 , -1.23254291, -1.37328922, ...,  1.30106596,\n",
       "         1.16742921, -1.2279357 ],\n",
       "       [-0.7293388 , -1.23254291, -1.39263605, ...,  1.30106596,\n",
       "         1.16742921, -1.08347268],\n",
       "       [-0.7293388 , -1.27621409, -1.38073031, ...,  1.30106596,\n",
       "         1.16742921, -0.93900965]])"
      ]
     },
     "execution_count": 4,
     "metadata": {},
     "output_type": "execute_result"
    }
   ],
   "source": [
    "scaler = StandardScaler()\n",
    "scaler.fit_transform(features)"
   ]
  },
  {
   "cell_type": "code",
   "execution_count": 5,
   "id": "c5c1291d-53be-4d84-8a8d-3abc1901b8e3",
   "metadata": {},
   "outputs": [],
   "source": [
    "# current_datetime = datetime.now()\n",
    "\n",
    "# current_day_weather = features[(features['Month'] == current_datetime.month) & \n",
    "#                                      (features['Day'] == current_datetime.day) & \n",
    "#                                      (features['Hour'] == current_datetime.hour)]"
   ]
  },
  {
   "cell_type": "code",
   "execution_count": 6,
   "id": "e0493759-ce1c-44a6-a1e7-3bf2ff31aaa4",
   "metadata": {},
   "outputs": [],
   "source": [
    "c_year = 2023\n",
    "c_month = 11\n",
    "c_day = 26\n",
    "c_hour = 5\n",
    "\n",
    "year = 2023\n",
    "month = 11\n",
    "day = 27\n",
    "hour = 6\n",
    "\n",
    "current_day_weather = features[(features['Year'] == c_year) &\n",
    "                               (features['Month'] == c_month) & \n",
    "                               (features['Day'] == c_day) & \n",
    "                               (features['Hour'] == c_hour)]\n",
    "\n",
    "last_7_days_weather = features[(features['Year'] == year) &\n",
    "                               (features['Month'] == month) & \n",
    "                               (features['Day'].isin(range(day - 7, day)))]"
   ]
  },
  {
   "cell_type": "code",
   "execution_count": 7,
   "id": "13daad37-d4ea-4499-ad3f-1babf7916ed3",
   "metadata": {},
   "outputs": [
    {
     "name": "stdout",
     "output_type": "stream",
     "text": [
      "1/1 [==============================] - 0s 77ms/step\n",
      "Predicted value: [[3.5566597]]\n"
     ]
    }
   ],
   "source": [
    "middle_point = (last_7_days_weather.mean() + current_day_weather) / 2\n",
    "\n",
    "middle_point_scaled = scaler.transform(middle_point)\n",
    "prediction = model.predict(middle_point_scaled)\n",
    "\n",
    "print('Predicted value: {}'.format(prediction))"
   ]
  },
  {
   "cell_type": "code",
   "execution_count": null,
   "id": "36438f9b-ce31-41fc-9950-7e3ab628c58d",
   "metadata": {},
   "outputs": [],
   "source": []
  }
 ],
 "metadata": {
  "kernelspec": {
   "display_name": "Python 3 (ipykernel)",
   "language": "python",
   "name": "python3"
  },
  "language_info": {
   "codemirror_mode": {
    "name": "ipython",
    "version": 3
   },
   "file_extension": ".py",
   "mimetype": "text/x-python",
   "name": "python",
   "nbconvert_exporter": "python",
   "pygments_lexer": "ipython3",
   "version": "3.11.4"
  }
 },
 "nbformat": 4,
 "nbformat_minor": 5
}
